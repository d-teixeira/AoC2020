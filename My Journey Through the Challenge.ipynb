{
 "cells": [
  {
   "cell_type": "markdown",
   "metadata": {},
   "source": [
    "## A Python Learning Journey\n",
    "\n",
    "Throughout this notebook, I will be posting all my codes for the different Advent of Code challenges. Since I am doing this for learning purposes, I will post my original code, successful or not, efficient or not, and will try to search for better solutions of other programmers to increase my awareness of libraries, methods, functions, best practices and so on. In the end, I expect this notebook to be helpful for my future self and, maybe, for others too."
   ]
  },
  {
   "cell_type": "markdown",
   "metadata": {},
   "source": [
    "### Day 1"
   ]
  },
  {
   "cell_type": "markdown",
   "metadata": {},
   "source": [
    "My first code was really awful in terms of efficiency. I tried to run three for loops that ran forever, I even had to stop the process. Luckily, the results had been found already. This was the code:"
   ]
  },
  {
   "cell_type": "code",
   "execution_count": null,
   "metadata": {},
   "outputs": [],
   "source": [
    "#import pandas as pd\n",
    "#\n",
    "#data = pd.read_csv('input.txt', header=None)\n",
    "#data.columns = ['Value']\n",
    "#data.iloc[0].values + 10\n",
    "#\n",
    "#for i, val in enumerate(data.Value):\n",
    "#    for i2 in range(len(data)):\n",
    "#        for i3 in range(len(data)):\n",
    "#            if data.iloc[i].values + data.iloc[i2].values + data.iloc[i3].values== 2020:\n",
    "#                entry1 = i\n",
    "#                entry2 = i2\n",
    "#                entry3 = i3\n",
    "#                break\n",
    "#            else:\n",
    "#                continue\n",
    "#\n",
    "#check = data.iloc[entry1].values + data.iloc[entry2].values + data.iloc[entry3].values\n",
    "#ans = data.iloc[entry1].values * data.iloc[entry2].values * data.iloc[entry3].values"
   ]
  },
  {
   "cell_type": "markdown",
   "metadata": {},
   "source": [
    "The following is a code from a colleague that I like given the different perspective of the solution. You could find the code here too: https://github.com/ed-hermoreyes/advent_of_code2020/blob/main/Advent-of-code-2020.ipynb"
   ]
  },
  {
   "cell_type": "code",
   "execution_count": 1,
   "metadata": {},
   "outputs": [
    {
     "name": "stdout",
     "output_type": "stream",
     "text": [
      "776064\n",
      "776064\n",
      "6964490\n"
     ]
    }
   ],
   "source": [
    "### PART ONE ####\n",
    "with open('day1.txt','r') as doc:\n",
    "    numbers = [int(i) for i in doc.read().splitlines()]\n",
    "    \n",
    "for num in numbers:\n",
    "    if (2020-num) in numbers:\n",
    "        print(num*numbers[numbers.index(2020-num)])\n",
    "        \n",
    "### PART TWO ###\n",
    "from itertools import combinations\n",
    "\n",
    "num_combi = combinations(numbers, 3)\n",
    "\n",
    "def product(sequence):\n",
    "    initial = 1\n",
    "    for i in sequence:\n",
    "        initial *= i\n",
    "    return initial\n",
    "\n",
    "for comb in num_combi:\n",
    "    if sum(comb) == 2020:\n",
    "        print(product(comb))"
   ]
  },
  {
   "cell_type": "markdown",
   "metadata": {},
   "source": [
    "I really like the simplicity of the first part of the code, to what I think that more thoughts most be put in a coding problem in order to find other perspectives if one is not efficient enough. Also, like always, searching on the web or asking others for correction, ideas, etc. would be of help. In the second part, I got to know the itertools library, definitely one that I will keep my mind.\n",
    "\n",
    "Searching on the web, I found this article regarding the used of for loops and some better alternative to know when the former is not that efficient. https://medium.com/python-pandemonium/never-write-for-loops-again-91a5a4c84baf"
   ]
  },
  {
   "cell_type": "markdown",
   "metadata": {},
   "source": [
    "### Day 2"
   ]
  },
  {
   "cell_type": "code",
   "execution_count": 2,
   "metadata": {},
   "outputs": [
    {
     "name": "stdout",
     "output_type": "stream",
     "text": [
      "Result Part 1:  636\n",
      "Result Part 2:  588\n"
     ]
    }
   ],
   "source": [
    "import pandas as pd\n",
    "\n",
    "data = pd.read_csv('day2.txt', header=None, delimiter=' ')\n",
    "data.columns = ['len','char','pass']\n",
    "data['len'] = [x.split('-') for x in data['len']]\n",
    "data['char'] = [x.strip(':') for x in data['char']]\n",
    "\n",
    "### PART ONE ###\n",
    "\n",
    "data['valid'] = 0\n",
    "for i,row in data.iterrows():\n",
    "    letter = row['char']\n",
    "    count = row['pass'].count(letter)\n",
    "    r = range(int(row.len[0]),int(row.len[1])+1)\n",
    "    if count in r:\n",
    "        data.loc[i, 'valid'] = 1\n",
    "        \n",
    "print('Result Part 1: ', data.valid.sum())\n",
    "\n",
    "### PART TWO ###\n",
    "\n",
    "data['valid2'] = 0\n",
    "for i,row in data.iterrows():\n",
    "    letter = row['char']\n",
    "    p1 = int(row.len[0]) - 1\n",
    "    p2 = int(row.len[1]) - 1\n",
    "    if row['pass'][p1] == letter and row['pass'][p2] != letter:\n",
    "        data.loc[i, 'valid2'] = 1\n",
    "    elif row['pass'][p1] != letter and row['pass'][p2] == letter:\n",
    "        data.loc[i, 'valid2'] = 1\n",
    "\n",
    "print('Result Part 2: ', data.valid2.sum())"
   ]
  }
 ],
 "metadata": {
  "kernelspec": {
   "display_name": "Python 3",
   "language": "python",
   "name": "python3"
  },
  "language_info": {
   "codemirror_mode": {
    "name": "ipython",
    "version": 3
   },
   "file_extension": ".py",
   "mimetype": "text/x-python",
   "name": "python",
   "nbconvert_exporter": "python",
   "pygments_lexer": "ipython3",
   "version": "3.8.3"
  }
 },
 "nbformat": 4,
 "nbformat_minor": 4
}
